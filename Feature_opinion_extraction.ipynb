{
 "cells": [
  {
   "cell_type": "markdown",
   "metadata": {},
   "source": [
    "# Set up"
   ]
  },
  {
   "cell_type": "code",
   "execution_count": 60,
   "metadata": {},
   "outputs": [],
   "source": [
    "# -*- coding: utf-8 -*- \n",
    "\n",
    "# imports\n",
    "import spacy\n",
    "import json\n",
    "import csv\n",
    "\n",
    "from nltk.tokenize import sent_tokenize"
   ]
  },
  {
   "cell_type": "code",
   "execution_count": 61,
   "metadata": {},
   "outputs": [],
   "source": [
    "# Load English tokenizer, tagger, parser, NER and word vectors\n",
    "nlp = spacy.load('en')"
   ]
  },
  {
   "cell_type": "markdown",
   "metadata": {},
   "source": [
    "# Load input text"
   ]
  },
  {
   "cell_type": "code",
   "execution_count": 62,
   "metadata": {},
   "outputs": [],
   "source": [
    "inputstring = open('input.txt', 'r').read()"
   ]
  },
  {
   "cell_type": "markdown",
   "metadata": {},
   "source": [
    "# Variable declaration"
   ]
  },
  {
   "cell_type": "code",
   "execution_count": 63,
   "metadata": {},
   "outputs": [],
   "source": [
    "# array of sentence_noun_adj pairs\n",
    "noun_adj_pairs = []\n",
    "\n",
    "# array consisting of noun after adjective\n",
    "checked = []\n",
    "\n",
    "# split input text into sentences\n",
    "all_sent = sent_tokenize(inputstring)"
   ]
  },
  {
   "cell_type": "markdown",
   "metadata": {},
   "source": [
    "# Create noun_adj pairs from text"
   ]
  },
  {
   "cell_type": "code",
   "execution_count": 64,
   "metadata": {},
   "outputs": [],
   "source": [
    "for sen in all_sent:\n",
    "\tdoc = nlp(unicode(sen, \"utf-8\"))\n",
    "    # detect noun after adjective\n",
    "\tfor i,token in enumerate(doc):\n",
    "\t\tif token.pos_ in ('NOUN','PROPN'):\n",
    "\t\t\t# print(str(token))\n",
    "\t\t\tfor j in range(0,len(doc)):\n",
    "\t\t\t\tif doc[j].pos_ == 'ADJ' and doc[j - 1].pos_ == 'ADV' and j == i - 1:\n",
    "\t\t\t\t\tchecked.append(str(token))\n",
    "\t\t\t\t\tnoun_adj_pairs.append((str(doc),str(token),str(doc[j - 1]) + ' ' + str(doc[j])))\n",
    "\t\t\t\t\tbreak\n",
    "\t\t\t\telif doc[j].pos_ == 'ADJ' and doc[j - 1].pos_ != 'ADV' and j == i - 1:\n",
    "\t\t\t\t\tchecked.append(str(token))\n",
    "\t\t\t\t\tnoun_adj_pairs.append((str(doc),str(token),str(doc[j])))\n",
    "\t\t\t\t\tbreak\n",
    "\n",
    "# detect noun before adjective\n",
    "\tfor i,token in enumerate(doc):\n",
    "\t\tif str(token) not in checked:\n",
    "\t\t    if token.pos_ not in ('NOUN','PROPN'):\n",
    "\t\t        continue\n",
    "\t\t    for j in range(i + 1,len(doc)):\n",
    "\t\t        if doc[j].pos_ == 'ADJ':\n",
    "\t\t            noun_adj_pairs.append((str(doc),str(token),str(doc[j])))\n",
    "\t\t            break"
   ]
  },
  {
   "cell_type": "code",
   "execution_count": 65,
   "metadata": {},
   "outputs": [
    {
     "name": "stdout",
     "output_type": "stream",
     "text": [
      "[('The doctor was very professional and courteous.', 'doctor', 'professional'), ('very clear instructions.', 'instructions', 'very clear'), ('Beautiful office surroundings and wonderful receptionist.', 'office', 'Beautiful'), ('Beautiful office surroundings and wonderful receptionist.', 'receptionist', 'wonderful')]\n"
     ]
    }
   ],
   "source": [
    "print(noun_adj_pairs)"
   ]
  },
  {
   "cell_type": "markdown",
   "metadata": {},
   "source": [
    "# Write submission.csv"
   ]
  },
  {
   "cell_type": "code",
   "execution_count": 66,
   "metadata": {},
   "outputs": [],
   "source": [
    "with open('submission.csv', 'w') as out:\n",
    "   thewriter = csv.writer(out)\n",
    "\n",
    "   thewriter.writerow(['Text','Topics/Keywords','Review/Opinion/feedback'])\n",
    "\n",
    "\n",
    "   for i in noun_adj_pairs:\n",
    "       thewriter.writerow([i[0], i[1], i[2]])"
   ]
  },
  {
   "cell_type": "code",
   "execution_count": null,
   "metadata": {},
   "outputs": [],
   "source": []
  }
 ],
 "metadata": {
  "kernelspec": {
   "display_name": "Python 2",
   "language": "python",
   "name": "python2"
  },
  "language_info": {
   "codemirror_mode": {
    "name": "ipython",
    "version": 2
   },
   "file_extension": ".py",
   "mimetype": "text/x-python",
   "name": "python",
   "nbconvert_exporter": "python",
   "pygments_lexer": "ipython2",
   "version": "2.7.12"
  }
 },
 "nbformat": 4,
 "nbformat_minor": 2
}
